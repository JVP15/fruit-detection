{
  "cells": [
    {
      "cell_type": "code",
      "execution_count": 1,
      "id": "4d65596a",
      "metadata": {
        "id": "4d65596a"
      },
      "outputs": [],
      "source": [
        "from keras.models import Sequential\n",
        "import tensorflow as tf\n",
        "from tensorflow.keras.layers import RandomFlip,RandomRotation \n",
        "from keras.layers.core import Dense, Activation, Dropout, Flatten\n",
        "from keras.layers.convolutional import Convolution2D, MaxPooling2D\n",
        "from tensorflow.keras.layers import Conv2D\n",
        "from tensorflow.keras.optimizers import SGD, RMSprop, Adam\n",
        "from keras.utils import np_utils\n",
        "from sklearn.tree import DecisionTreeClassifier # Import Decision Tree Classifier\n",
        "from sklearn import metrics\n",
        "from sklearn.utils import shuffle\n",
        "from sklearn.model_selection import train_test_split\n",
        "import matplotlib.image as mpimg\n",
        "import matplotlib.pyplot as plt\n",
        "import numpy as np\n",
        "import osr\n",
        "import cv2\n",
        "import random\n",
        "from numpy import *\n",
        "from PIL import Image\n",
        "import tensorflow_hub as hub"
      ]
    },
    {
      "cell_type": "code",
      "execution_count": 2,
      "id": "515377e0",
      "metadata": {
        "colab": {
          "base_uri": "https://localhost:8080/"
        },
        "id": "515377e0",
        "outputId": "8dc4263e-7921-4580-8f07-6896281be56d"
      },
      "outputs": [
        {
          "output_type": "stream",
          "name": "stdout",
          "text": [
            "Mounted at /content/drive\n"
          ]
        }
      ],
      "source": [
        "from google.colab import drive\n",
        "drive.mount('/content/drive')\n",
        "#TRAINING_DATA_DIR = \"C:\\\\Users\\\\Nancy Saxena\\\\2\\\\Apple\\\\Train\\\\\"\n",
        "#VALIDATION_DATA_DIR = \"C:\\\\Users\\\\Nancy Saxena\\\\2\\\\Apple\\\\Validation\\\\\"\n",
        "TRAINING_DATA_DIR = \"/content/drive/MyDrive/2/Apple\"\n",
        "TEST_DATA_DIR = \"/content/drive/MyDrive/2/test\""
      ]
    },
    {
      "cell_type": "code",
      "execution_count": 3,
      "id": "0096c0b2",
      "metadata": {
        "id": "0096c0b2"
      },
      "outputs": [],
      "source": [
        "IMAGE_SHAPE = (224, 224) # (height, width) in no. of pixels"
      ]
    },
    {
      "cell_type": "code",
      "execution_count": 4,
      "id": "fcd1b682",
      "metadata": {
        "id": "fcd1b682"
      },
      "outputs": [],
      "source": [
        "datagen_kwargs = dict(rescale=1./255, \n",
        "        validation_split=.20,\n",
        "        zoom_range=0.2,\n",
        "        horizontal_flip=True,\n",
        "        vertical_flip=True)"
      ]
    },
    {
      "cell_type": "markdown",
      "id": "65d8be0c",
      "metadata": {
        "id": "65d8be0c"
      },
      "source": [
        "import os\n",
        "os.getcwd()\n",
        "collection = TRAINING_DATA_DIR\n",
        "for i, filename in enumerate(os.listdir(collection)):\n",
        "    os.rename(TRAINING_DATA_DIR + \"\\\\\" + filename, TRAINING_DATA_DIR  + \"\\\\\" + str(i) + \".jpg\")"
      ]
    },
    {
      "cell_type": "code",
      "execution_count": 5,
      "id": "63fae1ad",
      "metadata": {
        "colab": {
          "base_uri": "https://localhost:8080/"
        },
        "id": "63fae1ad",
        "outputId": "76a8ba51-f073-4595-80f0-f16a36e523a7"
      },
      "outputs": [
        {
          "output_type": "stream",
          "name": "stdout",
          "text": [
            "Found 37 images belonging to 2 classes.\n",
            "Found 151 images belonging to 2 classes.\n"
          ]
        }
      ],
      "source": [
        "valid_datagen = tf.keras.preprocessing.image.ImageDataGenerator(**datagen_kwargs)\n",
        "valid_generator = valid_datagen.flow_from_directory(\n",
        "TRAINING_DATA_DIR,\n",
        "subset='validation',\n",
        "shuffle=True,\n",
        "seed=24,\n",
        "target_size=IMAGE_SHAPE\n",
        ")\n",
        "train_datagen = tf.keras.preprocessing.image.ImageDataGenerator(**datagen_kwargs)\n",
        "train_generator = train_datagen.flow_from_directory(\n",
        "TRAINING_DATA_DIR,\n",
        "subset='training',\n",
        "shuffle=True,\n",
        "seed=24,\n",
        "target_size=IMAGE_SHAPE)"
      ]
    },
    {
      "cell_type": "code",
      "execution_count": 6,
      "id": "b8bbec88",
      "metadata": {
        "colab": {
          "base_uri": "https://localhost:8080/"
        },
        "id": "b8bbec88",
        "outputId": "f3898d33-cc30-4f27-c18f-cfd6fee2f648"
      },
      "outputs": [
        {
          "output_type": "stream",
          "name": "stdout",
          "text": [
            "{'Ripe': 0, 'Unripe': 1}\n"
          ]
        }
      ],
      "source": [
        "print (train_generator.class_indices)"
      ]
    },
    {
      "cell_type": "code",
      "execution_count": 7,
      "id": "e392805e",
      "metadata": {
        "id": "e392805e"
      },
      "outputs": [],
      "source": [
        "labels = '\\n'.join(sorted(train_generator.class_indices.keys()))\n",
        "with open('labels.txt', 'w') as f:\n",
        " f.write(labels)"
      ]
    },
    {
      "cell_type": "markdown",
      "id": "95f88ba1",
      "metadata": {
        "id": "95f88ba1"
      },
      "source": [
        "# Mobilenet_v2 "
      ]
    },
    {
      "cell_type": "code",
      "execution_count": 8,
      "id": "e65c5f23",
      "metadata": {
        "colab": {
          "base_uri": "https://localhost:8080/"
        },
        "id": "e65c5f23",
        "outputId": "beb57fdf-d970-4876-fab6-ff527518fa73"
      },
      "outputs": [
        {
          "output_type": "stream",
          "name": "stdout",
          "text": [
            "Model: \"sequential\"\n",
            "_________________________________________________________________\n",
            " Layer (type)                Output Shape              Param #   \n",
            "=================================================================\n",
            " keras_layer (KerasLayer)    (None, 1280)              2257984   \n",
            "                                                                 \n",
            " dropout (Dropout)           (None, 1280)              0         \n",
            "                                                                 \n",
            " dense (Dense)               (None, 2)                 2562      \n",
            "                                                                 \n",
            "=================================================================\n",
            "Total params: 2,260,546\n",
            "Trainable params: 2,562\n",
            "Non-trainable params: 2,257,984\n",
            "_________________________________________________________________\n"
          ]
        }
      ],
      "source": [
        "model = tf.keras.Sequential([\n",
        " hub.KerasLayer('https://tfhub.dev/google/tf2-preview/mobilenet_v2/feature_vector/4', \n",
        " output_shape=[1280],\n",
        " trainable=False),\n",
        " tf.keras.layers.Dropout(0.4),\n",
        " tf.keras.layers.Dense(train_generator.num_classes, activation='softmax')\n",
        "])\n",
        "model.build([None, 224, 224, 3])\n",
        "model.summary()"
      ]
    },
    {
      "cell_type": "code",
      "execution_count": 9,
      "id": "07b3e643",
      "metadata": {
        "colab": {
          "base_uri": "https://localhost:8080/"
        },
        "id": "07b3e643",
        "outputId": "c819989e-8895-437d-cde1-755a985ea0fe"
      },
      "outputs": [
        {
          "output_type": "stream",
          "name": "stderr",
          "text": [
            "/usr/local/lib/python3.7/dist-packages/keras/optimizer_v2/adam.py:105: UserWarning: The `lr` argument is deprecated, use `learning_rate` instead.\n",
            "  super(Adam, self).__init__(name, **kwargs)\n"
          ]
        }
      ],
      "source": [
        "optimizer = tf.keras.optimizers.Adam(lr=1e-3)\n",
        "model.compile(\n",
        " optimizer=optimizer,\n",
        " loss='categorical_crossentropy',\n",
        " metrics=['acc'])"
      ]
    },
    {
      "cell_type": "code",
      "execution_count": 19,
      "id": "f2585597",
      "metadata": {
        "colab": {
          "base_uri": "https://localhost:8080/"
        },
        "id": "f2585597",
        "outputId": "451df3bc-9361-4def-d946-e85c2cad111d"
      },
      "outputs": [
        {
          "output_type": "stream",
          "name": "stdout",
          "text": [
            "Epoch 1/10\n",
            "5/5 [==============================] - 10s 2s/step - loss: 0.0617 - acc: 0.9868 - val_loss: 0.0579 - val_acc: 0.9730\n",
            "Epoch 2/10\n",
            "5/5 [==============================] - 8s 2s/step - loss: 0.0346 - acc: 0.9934 - val_loss: 0.0857 - val_acc: 0.9730\n",
            "Epoch 3/10\n",
            "5/5 [==============================] - 15s 3s/step - loss: 0.0482 - acc: 0.9934 - val_loss: 0.1001 - val_acc: 0.9730\n",
            "Epoch 4/10\n",
            "5/5 [==============================] - 13s 2s/step - loss: 0.0452 - acc: 0.9934 - val_loss: 0.0822 - val_acc: 0.9459\n",
            "Epoch 5/10\n",
            "5/5 [==============================] - 8s 2s/step - loss: 0.0404 - acc: 1.0000 - val_loss: 0.1218 - val_acc: 0.9459\n",
            "Epoch 6/10\n",
            "5/5 [==============================] - 8s 2s/step - loss: 0.0321 - acc: 1.0000 - val_loss: 0.1271 - val_acc: 0.9189\n",
            "Epoch 7/10\n",
            "5/5 [==============================] - 8s 2s/step - loss: 0.0528 - acc: 0.9801 - val_loss: 0.0853 - val_acc: 0.9730\n",
            "Epoch 8/10\n",
            "5/5 [==============================] - 8s 2s/step - loss: 0.0329 - acc: 1.0000 - val_loss: 0.1056 - val_acc: 0.9459\n",
            "Epoch 9/10\n",
            "5/5 [==============================] - 8s 2s/step - loss: 0.0380 - acc: 0.9801 - val_loss: 0.0942 - val_acc: 0.9459\n",
            "Epoch 10/10\n",
            "5/5 [==============================] - 8s 2s/step - loss: 0.0516 - acc: 0.9934 - val_loss: 0.1040 - val_acc: 0.9730\n"
          ]
        }
      ],
      "source": [
        "steps_per_epoch = np.ceil(train_generator.samples/train_generator.batch_size)\n",
        "val_steps_per_epoch = np.ceil(valid_generator.samples/valid_generator.batch_size)\n",
        "hist = model.fit(\n",
        " train_generator, \n",
        " epochs=10,\n",
        " verbose=1,\n",
        " steps_per_epoch=steps_per_epoch,\n",
        " validation_data=valid_generator,\n",
        " validation_steps=val_steps_per_epoch).history"
      ]
    },
    {
      "cell_type": "code",
      "execution_count": 20,
      "id": "f3ec26a1",
      "metadata": {
        "colab": {
          "base_uri": "https://localhost:8080/"
        },
        "id": "f3ec26a1",
        "outputId": "4703c2d4-2194-425f-df68-46050d361486"
      },
      "outputs": [
        {
          "output_type": "stream",
          "name": "stdout",
          "text": [
            "2/2 [==============================] - 2s 140ms/step - loss: 0.0724 - acc: 0.9730\n",
            "Final loss: 0.07\n",
            "Final accuracy: 97.30%\n"
          ]
        }
      ],
      "source": [
        "final_loss, final_accuracy = model.evaluate(valid_generator, steps = val_steps_per_epoch)\n",
        "print('Final loss: {:.2f}'.format(final_loss))\n",
        "print('Final accuracy: {:.2f}%'.format(final_accuracy * 100))"
      ]
    },
    {
      "cell_type": "code",
      "execution_count": 21,
      "id": "9c448c97",
      "metadata": {
        "id": "9c448c97"
      },
      "outputs": [],
      "source": [
        "model.save_weights(filepath='final_weight_mboilenet.h5')"
      ]
    },
    {
      "cell_type": "code",
      "execution_count": 22,
      "id": "6eafd58d",
      "metadata": {
        "colab": {
          "base_uri": "https://localhost:8080/"
        },
        "id": "6eafd58d",
        "outputId": "826a853b-4cd0-44eb-ec93-77af381cdb44"
      },
      "outputs": [
        {
          "output_type": "stream",
          "name": "stdout",
          "text": [
            "INFO:tensorflow:Assets written to: mobilenetv2/assets\n"
          ]
        },
        {
          "output_type": "stream",
          "name": "stderr",
          "text": [
            "INFO:tensorflow:Assets written to: mobilenetv2/assets\n"
          ]
        }
      ],
      "source": [
        "model.save('mobilenetv2')"
      ]
    },
    {
      "cell_type": "code",
      "execution_count": 23,
      "id": "fb36e57b",
      "metadata": {
        "colab": {
          "base_uri": "https://localhost:8080/",
          "height": 566
        },
        "id": "fb36e57b",
        "outputId": "394cd240-3811-4637-ef4a-91303b4de9a1"
      },
      "outputs": [
        {
          "output_type": "execute_result",
          "data": {
            "text/plain": [
              "[<matplotlib.lines.Line2D at 0x7f65f5db8410>]"
            ]
          },
          "metadata": {},
          "execution_count": 23
        },
        {
          "output_type": "display_data",
          "data": {
            "text/plain": [
              "<Figure size 432x288 with 1 Axes>"
            ],
            "image/png": "[encoded data removed]"
          },
          "metadata": {
            "needs_background": "light"
          }
        },
        {
          "output_type": "display_data",
          "data": {
            "text/plain": [
              "<Figure size 432x288 with 1 Axes>"
            ],
            "image/png": "[encoded data removed]"
          },
          "metadata": {
            "needs_background": "light"
          }
        }
      ],
      "source": [
        "plt.figure()\n",
        "plt.ylabel('Loss (training and validation)')\n",
        "plt.xlabel('Training Steps')\n",
        "plt.ylim([0,50])\n",
        "plt.plot(hist['loss'])\n",
        "plt.plot(hist['val_loss'])\n",
        "plt.figure()\n",
        "plt.ylabel('Accuracy (training and validation)')\n",
        "plt.xlabel('Training Steps')\n",
        "plt.ylim([0,1])\n",
        "plt.plot(hist['acc'])\n",
        "plt.plot(hist['val_acc'])"
      ]
    },
    {
      "cell_type": "code",
      "execution_count": 24,
      "id": "14e8d7bb",
      "metadata": {
        "colab": {
          "base_uri": "https://localhost:8080/"
        },
        "id": "14e8d7bb",
        "outputId": "ab6ed7b4-fcdc-4f36-c354-fc1ac787c9dd"
      },
      "outputs": [
        {
          "output_type": "stream",
          "name": "stdout",
          "text": [
            "['2.png', '7.png', '5.png', '3.png', '8.png', '10.png', '9.png', '1.png', '6.png', '4.jpg']\n",
            "The image is 2.png This image most likely belongs to Ripe with a 58.64 percent confidence.\n",
            "The image is 7.png This image most likely belongs to Unripe with a 54.22 percent confidence.\n",
            "The image is 5.png This image most likely belongs to Unripe with a 55.62 percent confidence.\n",
            "The image is 3.png This image most likely belongs to Unripe with a 63.57 percent confidence.\n",
            "The image is 8.png This image most likely belongs to Ripe with a 51.58 percent confidence.\n",
            "The image is 10.png This image most likely belongs to Unripe with a 59.75 percent confidence.\n",
            "The image is 9.png This image most likely belongs to Unripe with a 61.05 percent confidence.\n",
            "The image is 1.png This image most likely belongs to Ripe with a 53.49 percent confidence.\n",
            "The image is 6.png This image most likely belongs to Unripe with a 66.42 percent confidence.\n",
            "The image is 4.jpg This image most likely belongs to Ripe with a 56.94 percent confidence.\n"
          ]
        }
      ],
      "source": [
        "import os\n",
        "image_names=os.listdir(TEST_DATA_DIR)\n",
        "print(image_names)\n",
        "for filename in image_names:\n",
        "    img = cv2.imread(os.path.join(TEST_DATA_DIR,filename))    \n",
        "   # img = tf.keras.preprocessing.image.load_img(filename, target_size=(224, 224))\n",
        "    img=cv2.resize(img,(224,224))\n",
        "    x=np.expand_dims(img, axis=0)\n",
        "    images = np.vstack([x]) \n",
        "    classes = model.predict(images, batch_size=10)\n",
        "    output_class=np.argmax(classes)\n",
        "    if (output_class==0):\n",
        "        output_class='Ripe'\n",
        "    else:\n",
        "        output_class='Unripe'\n",
        "    score = tf.nn.softmax(classes[0])\n",
        "    print(\n",
        "    \n",
        "    \"The image is {} This image most likely belongs to {} with a {:.2f} percent confidence.\"\n",
        "    .format(filename,output_class, 100 * np.max(score))\n",
        "    )"
      ]
    },
    {
      "cell_type": "markdown",
      "id": "59246e2e",
      "metadata": {
        "id": "59246e2e"
      },
      "source": [
        "# CNN"
      ]
    },
    {
      "cell_type": "code",
      "execution_count": 25,
      "id": "8d6aaa16",
      "metadata": {
        "id": "8d6aaa16"
      },
      "outputs": [],
      "source": [
        "model_cnn= Sequential([\n",
        "\n",
        "    Conv2D(input_shape=(224,224,3), filters=6, kernel_size=5, strides=1,padding='same',activation=tf.nn.relu),\n",
        "\n",
        "    MaxPooling2D(pool_size=2, strides=2),\n",
        "\n",
        "    Conv2D(16, kernel_size=5, strides=1, padding='same', activation=tf.nn.relu),\n",
        "\n",
        "    MaxPooling2D(pool_size=2, strides=2),\n",
        "\n",
        "    Flatten(),\n",
        "\n",
        "    Dense(120, activation=tf.nn.relu),\n",
        "\n",
        "    Dense(2, activation=tf.nn.softmax)\n",
        "\n",
        "])"
      ]
    },
    {
      "cell_type": "code",
      "execution_count": 26,
      "id": "e3bc630f",
      "metadata": {
        "colab": {
          "base_uri": "https://localhost:8080/"
        },
        "id": "e3bc630f",
        "outputId": "78593729-6693-444d-aeed-b0ff5ace692c"
      },
      "outputs": [
        {
          "output_type": "stream",
          "name": "stderr",
          "text": [
            "/usr/local/lib/python3.7/dist-packages/keras/optimizer_v2/adam.py:105: UserWarning: The `lr` argument is deprecated, use `learning_rate` instead.\n",
            "  super(Adam, self).__init__(name, **kwargs)\n"
          ]
        }
      ],
      "source": [
        "optimizer = tf.keras.optimizers.Adam(lr=1e-3)\n",
        "model_cnn.compile(\n",
        " optimizer=optimizer,\n",
        " loss='categorical_crossentropy',\n",
        " metrics=['acc'])"
      ]
    },
    {
      "cell_type": "code",
      "execution_count": 27,
      "id": "24cc0038",
      "metadata": {
        "colab": {
          "base_uri": "https://localhost:8080/"
        },
        "id": "24cc0038",
        "outputId": "47f4be73-553d-4b82-e6fc-1d939bbcc2af"
      },
      "outputs": [
        {
          "output_type": "stream",
          "name": "stdout",
          "text": [
            "Model: \"sequential_1\"\n",
            "_________________________________________________________________\n",
            " Layer (type)                Output Shape              Param #   \n",
            "=================================================================\n",
            " conv2d (Conv2D)             (None, 224, 224, 6)       456       \n",
            "                                                                 \n",
            " max_pooling2d (MaxPooling2D  (None, 112, 112, 6)      0         \n",
            " )                                                               \n",
            "                                                                 \n",
            " conv2d_1 (Conv2D)           (None, 112, 112, 16)      2416      \n",
            "                                                                 \n",
            " max_pooling2d_1 (MaxPooling  (None, 56, 56, 16)       0         \n",
            " 2D)                                                             \n",
            "                                                                 \n",
            " flatten (Flatten)           (None, 50176)             0         \n",
            "                                                                 \n",
            " dense_1 (Dense)             (None, 120)               6021240   \n",
            "                                                                 \n",
            " dense_2 (Dense)             (None, 2)                 242       \n",
            "                                                                 \n",
            "=================================================================\n",
            "Total params: 6,024,354\n",
            "Trainable params: 6,024,354\n",
            "Non-trainable params: 0\n",
            "_________________________________________________________________\n"
          ]
        }
      ],
      "source": [
        "model_cnn.summary()"
      ]
    },
    {
      "cell_type": "code",
      "execution_count": 28,
      "id": "e25f1920",
      "metadata": {
        "colab": {
          "base_uri": "https://localhost:8080/"
        },
        "id": "e25f1920",
        "outputId": "02df0c5a-bdca-47dd-f65c-062ff01fd2bd"
      },
      "outputs": [
        {
          "output_type": "stream",
          "name": "stdout",
          "text": [
            "Epoch 1/10\n",
            "5/5 [==============================] - 12s 2s/step - loss: 15.7256 - acc: 0.5099 - val_loss: 12.3548 - val_acc: 0.5405\n",
            "Epoch 2/10\n",
            "5/5 [==============================] - 11s 2s/step - loss: 6.2018 - acc: 0.5364 - val_loss: 0.7238 - val_acc: 0.5405\n",
            "Epoch 3/10\n",
            "5/5 [==============================] - 12s 2s/step - loss: 0.7908 - acc: 0.4901 - val_loss: 0.5087 - val_acc: 0.7838\n",
            "Epoch 4/10\n",
            "5/5 [==============================] - 11s 2s/step - loss: 0.5294 - acc: 0.6225 - val_loss: 0.4500 - val_acc: 0.6216\n",
            "Epoch 5/10\n",
            "5/5 [==============================] - 11s 2s/step - loss: 0.4784 - acc: 0.6954 - val_loss: 0.3889 - val_acc: 0.8919\n",
            "Epoch 6/10\n",
            "5/5 [==============================] - 11s 2s/step - loss: 0.4668 - acc: 0.8411 - val_loss: 0.4099 - val_acc: 0.9189\n",
            "Epoch 7/10\n",
            "5/5 [==============================] - 11s 2s/step - loss: 0.4518 - acc: 0.8411 - val_loss: 0.4079 - val_acc: 0.9189\n",
            "Epoch 8/10\n",
            "5/5 [==============================] - 11s 2s/step - loss: 0.4250 - acc: 0.8609 - val_loss: 0.4075 - val_acc: 0.9459\n",
            "Epoch 9/10\n",
            "5/5 [==============================] - 11s 2s/step - loss: 0.4111 - acc: 0.8940 - val_loss: 0.4135 - val_acc: 0.9459\n",
            "Epoch 10/10\n",
            "5/5 [==============================] - 11s 2s/step - loss: 0.4220 - acc: 0.8940 - val_loss: 0.2940 - val_acc: 1.0000\n"
          ]
        }
      ],
      "source": [
        "steps_per_epoch = np.ceil(train_generator.samples/train_generator.batch_size)\n",
        "val_steps_per_epoch = np.ceil(valid_generator.samples/valid_generator.batch_size)\n",
        "hist = model_cnn.fit(\n",
        " train_generator, \n",
        " epochs=10,\n",
        " verbose=1,\n",
        " steps_per_epoch=steps_per_epoch,\n",
        " validation_data=valid_generator,\n",
        " validation_steps=val_steps_per_epoch).history"
      ]
    },
    {
      "cell_type": "code",
      "execution_count": 29,
      "id": "d979fb82",
      "metadata": {
        "colab": {
          "base_uri": "https://localhost:8080/"
        },
        "id": "d979fb82",
        "outputId": "21caaf95-c286-4d18-f69e-ffdfdda76e60"
      },
      "outputs": [
        {
          "output_type": "stream",
          "name": "stdout",
          "text": [
            "2/2 [==============================] - 2s 161ms/step - loss: 0.0686 - acc: 0.9730\n",
            "Final loss: 0.07\n",
            "Final accuracy: 97.30%\n"
          ]
        }
      ],
      "source": [
        "final_loss, final_accuracy = model.evaluate(valid_generator, steps = val_steps_per_epoch)\n",
        "print('Final loss: {:.2f}'.format(final_loss))\n",
        "print('Final accuracy: {:.2f}%'.format(final_accuracy * 100))"
      ]
    },
    {
      "cell_type": "code",
      "execution_count": 30,
      "id": "bcb78faf",
      "metadata": {
        "colab": {
          "base_uri": "https://localhost:8080/"
        },
        "id": "bcb78faf",
        "outputId": "7b442a73-13da-42e5-fec7-24fdb14a84dc"
      },
      "outputs": [
        {
          "output_type": "stream",
          "name": "stdout",
          "text": [
            "['2.png', '7.png', '5.png', '3.png', '8.png', '10.png', '9.png', '1.png', '6.png', '4.jpg']\n",
            "The image is 2.png This image most likely belongs to Ripe with a 58.64 percent confidence.\n",
            "The image is 7.png This image most likely belongs to Unripe with a 54.22 percent confidence.\n",
            "The image is 5.png This image most likely belongs to Unripe with a 55.62 percent confidence.\n",
            "The image is 3.png This image most likely belongs to Unripe with a 63.57 percent confidence.\n",
            "The image is 8.png This image most likely belongs to Ripe with a 51.58 percent confidence.\n",
            "The image is 10.png This image most likely belongs to Unripe with a 59.75 percent confidence.\n",
            "The image is 9.png This image most likely belongs to Unripe with a 61.05 percent confidence.\n",
            "The image is 1.png This image most likely belongs to Ripe with a 53.49 percent confidence.\n",
            "The image is 6.png This image most likely belongs to Unripe with a 66.42 percent confidence.\n",
            "The image is 4.jpg This image most likely belongs to Ripe with a 56.94 percent confidence.\n"
          ]
        }
      ],
      "source": [
        "image_names=os.listdir(TEST_DATA_DIR)\n",
        "print(image_names)\n",
        "for filename in image_names:\n",
        "    img = cv2.imread(os.path.join(TEST_DATA_DIR,filename))    \n",
        "    #img = tf.keras.preprocessing.image.load_img(img, target_size=(224, 224))\n",
        "    img=cv2.resize(img,(224,224))\n",
        "    x=np.expand_dims(img, axis=0)\n",
        "    images = np.vstack([x]) \n",
        "    classes = model.predict(images, batch_size=10)\n",
        "    output_class=np.argmax(classes)\n",
        "    if (output_class==0):\n",
        "        output_class='Ripe'\n",
        "    else:\n",
        "        output_class='Unripe'\n",
        "    score = tf.nn.softmax(classes[0])\n",
        "    print(\n",
        "    \n",
        "    \"The image is {} This image most likely belongs to {} with a {:.2f} percent confidence.\"\n",
        "    .format(filename,output_class, 100 * np.max(score))\n",
        "    )"
      ]
    },
    {
      "cell_type": "code",
      "execution_count": 31,
      "id": "9b59ba43",
      "metadata": {
        "id": "9b59ba43"
      },
      "outputs": [],
      "source": [
        "model_cnn.save_weights(filepath='final_weight_cnn.h5')"
      ]
    },
    {
      "cell_type": "code",
      "execution_count": 32,
      "id": "20f70c95",
      "metadata": {
        "colab": {
          "base_uri": "https://localhost:8080/"
        },
        "id": "20f70c95",
        "outputId": "22a3a793-b408-445f-d4b1-5da3ea3babf7"
      },
      "outputs": [
        {
          "output_type": "stream",
          "name": "stdout",
          "text": [
            "INFO:tensorflow:Assets written to: CNN/assets\n"
          ]
        },
        {
          "output_type": "stream",
          "name": "stderr",
          "text": [
            "INFO:tensorflow:Assets written to: CNN/assets\n"
          ]
        }
      ],
      "source": [
        "model_cnn.save('CNN')"
      ]
    },
    {
      "cell_type": "code",
      "execution_count": 95,
      "id": "4e20ae33",
      "metadata": {
        "colab": {
          "base_uri": "https://localhost:8080/",
          "height": 549
        },
        "id": "4e20ae33",
        "outputId": "757b0a4d-950d-468a-d68d-7ad74fdc1469"
      },
      "outputs": [
        {
          "output_type": "display_data",
          "data": {
            "text/plain": [
              "<Figure size 432x288 with 1 Axes>"
            ],
            "image/png": "[encoded data removed]"
          },
          "metadata": {
            "needs_background": "light"
          }
        },
        {
          "output_type": "display_data",
          "data": {
            "text/plain": [
              "<Figure size 432x288 with 1 Axes>"
            ],
            "image/png": "[encoded data removed]"
          },
          "metadata": {
            "needs_background": "light"
          }
        }
      ],
      "source": [
        "plt.figure()\n",
        "plt.ylabel('Loss (training and validation)')\n",
        "plt.xlabel('Training Steps')\n",
        "plt.ylim([0,50])\n",
        "plt.plot(hist['loss'])\n",
        "plt.plot(hist['val_loss'])\n",
        "plt.legend(['train', 'validation'])\n",
        "plt.show()\n",
        "plt.figure()\n",
        "plt.ylabel('Accuracy (training and validation)')\n",
        "plt.xlabel('Training Steps')\n",
        "plt.ylim([0,1])\n",
        "plt.plot(hist['acc'])\n",
        "plt.plot(hist['val_acc'])\n",
        "plt.legend(['train', 'validation'])\n",
        "plt.show()"
      ]
    },
    {
      "cell_type": "markdown",
      "id": "5800b482",
      "metadata": {
        "id": "5800b482"
      },
      "source": [
        "# EffecientNet B0\n",
        "\n"
      ]
    },
    {
      "cell_type": "code",
      "execution_count": 72,
      "id": "a3e1a148",
      "metadata": {
        "colab": {
          "base_uri": "https://localhost:8080/"
        },
        "id": "a3e1a148",
        "outputId": "1806e287-5bb0-4385-ed33-c4e73ad5f367"
      },
      "outputs": [
        {
          "output_type": "stream",
          "name": "stdout",
          "text": [
            "Downloading data from https://storage.googleapis.com/keras-applications/efficientnetb0_notop.h5\n",
            "16711680/16705208 [==============================] - 0s 0us/step\n",
            "16719872/16705208 [==============================] - 0s 0us/step\n"
          ]
        }
      ],
      "source": [
        "\n",
        "EfficientNetB0_model = Sequential()\n",
        "\n",
        "pretrained_model = tf.keras.applications.EfficientNetB0(\n",
        "    include_top=False,\n",
        "    weights=\"imagenet\",\n",
        "    input_tensor=None,\n",
        "    input_shape=(224,224,3),\n",
        "    pooling='avg',\n",
        "    classes=2,\n",
        "    classifier_activation=\"softmax\")\n",
        "\n",
        "\n",
        "for layer in pretrained_model.layers:\n",
        "        layer.trainable=False"
      ]
    },
    {
      "cell_type": "code",
      "execution_count": 73,
      "id": "d7a50378",
      "metadata": {
        "id": "d7a50378"
      },
      "outputs": [],
      "source": [
        "EfficientNetB0_model.add(pretrained_model)\n",
        "EfficientNetB0_model.add(Flatten())\n",
        "EfficientNetB0_model.add(Dense(512, activation='relu'))\n",
        "EfficientNetB0_model.add(Dense(2, activation='softmax'))"
      ]
    },
    {
      "cell_type": "code",
      "execution_count": 75,
      "id": "56a7fc3f",
      "metadata": {
        "colab": {
          "base_uri": "https://localhost:8080/"
        },
        "id": "56a7fc3f",
        "outputId": "4f91d56b-6310-42a8-ab31-66a1a1caa306"
      },
      "outputs": [
        {
          "output_type": "stream",
          "name": "stdout",
          "text": [
            "Model: \"sequential_5\"\n",
            "_________________________________________________________________\n",
            " Layer (type)                Output Shape              Param #   \n",
            "=================================================================\n",
            " efficientnetb0 (Functional)  (None, 1280)             4049571   \n",
            "                                                                 \n",
            " flatten_4 (Flatten)         (None, 1280)              0         \n",
            "                                                                 \n",
            " dense_9 (Dense)             (None, 512)               655872    \n",
            "                                                                 \n",
            " dense_10 (Dense)            (None, 2)                 1026      \n",
            "                                                                 \n",
            "=================================================================\n",
            "Total params: 4,706,469\n",
            "Trainable params: 656,898\n",
            "Non-trainable params: 4,049,571\n",
            "_________________________________________________________________\n"
          ]
        }
      ],
      "source": [
        "\n",
        "EfficientNetB0_model.summary()"
      ]
    },
    {
      "cell_type": "code",
      "execution_count": 83,
      "id": "565e8918",
      "metadata": {
        "id": "565e8918"
      },
      "outputs": [],
      "source": [
        "EfficientNetB0_model.compile(optimizer=Adam(learning_rate=0.0001),loss='categorical_crossentropy',metrics=['accuracy'])\n"
      ]
    },
    {
      "cell_type": "code",
      "execution_count": 84,
      "id": "d1ea98f8",
      "metadata": {
        "colab": {
          "base_uri": "https://localhost:8080/"
        },
        "id": "d1ea98f8",
        "outputId": "5876da1e-faff-49ac-fdc9-435e54a5444e"
      },
      "outputs": [
        {
          "output_type": "stream",
          "name": "stdout",
          "text": [
            "Epoch 1/100\n",
            "5/5 [==============================] - 50s 3s/step - loss: 0.7002 - accuracy: 0.5364 - val_loss: 0.6879 - val_accuracy: 0.5405\n",
            "Epoch 2/100\n",
            "5/5 [==============================] - 12s 2s/step - loss: 0.6863 - accuracy: 0.5364 - val_loss: 0.6894 - val_accuracy: 0.5405\n",
            "Epoch 3/100\n",
            "5/5 [==============================] - 12s 2s/step - loss: 0.6947 - accuracy: 0.4901 - val_loss: 0.6903 - val_accuracy: 0.5405\n",
            "Epoch 4/100\n",
            "5/5 [==============================] - 12s 2s/step - loss: 0.7001 - accuracy: 0.4901 - val_loss: 0.6900 - val_accuracy: 0.5405\n",
            "Epoch 5/100\n",
            "5/5 [==============================] - 12s 2s/step - loss: 0.6918 - accuracy: 0.5166 - val_loss: 0.6896 - val_accuracy: 0.5405\n",
            "Epoch 6/100\n",
            "5/5 [==============================] - 12s 2s/step - loss: 0.6938 - accuracy: 0.4967 - val_loss: 0.6883 - val_accuracy: 0.5405\n",
            "Epoch 7/100\n",
            "5/5 [==============================] - 12s 2s/step - loss: 0.6870 - accuracy: 0.5364 - val_loss: 0.6881 - val_accuracy: 0.5405\n",
            "Epoch 8/100\n",
            "5/5 [==============================] - 12s 2s/step - loss: 0.6890 - accuracy: 0.5364 - val_loss: 0.6882 - val_accuracy: 0.5405\n",
            "Epoch 9/100\n",
            "5/5 [==============================] - 12s 2s/step - loss: 0.6941 - accuracy: 0.5364 - val_loss: 0.6883 - val_accuracy: 0.5405\n",
            "Epoch 10/100\n",
            "5/5 [==============================] - 12s 2s/step - loss: 0.6906 - accuracy: 0.5364 - val_loss: 0.6883 - val_accuracy: 0.5405\n",
            "Epoch 11/100\n",
            "5/5 [==============================] - 12s 2s/step - loss: 0.6943 - accuracy: 0.5497 - val_loss: 0.6885 - val_accuracy: 0.5405\n",
            "Epoch 12/100\n",
            "5/5 [==============================] - 12s 2s/step - loss: 0.6889 - accuracy: 0.5298 - val_loss: 0.6882 - val_accuracy: 0.5405\n",
            "Epoch 13/100\n",
            "5/5 [==============================] - 12s 2s/step - loss: 0.6910 - accuracy: 0.5364 - val_loss: 0.6880 - val_accuracy: 0.5405\n",
            "Epoch 14/100\n",
            "5/5 [==============================] - 12s 2s/step - loss: 0.6913 - accuracy: 0.5364 - val_loss: 0.6882 - val_accuracy: 0.5405\n",
            "Epoch 15/100\n",
            "5/5 [==============================] - 12s 2s/step - loss: 0.6844 - accuracy: 0.5298 - val_loss: 0.6881 - val_accuracy: 0.5405\n",
            "Epoch 16/100\n",
            "5/5 [==============================] - 12s 2s/step - loss: 0.6890 - accuracy: 0.5430 - val_loss: 0.6880 - val_accuracy: 0.5405\n",
            "Epoch 17/100\n",
            "5/5 [==============================] - 12s 2s/step - loss: 0.6867 - accuracy: 0.5298 - val_loss: 0.6882 - val_accuracy: 0.5405\n",
            "Epoch 18/100\n",
            "5/5 [==============================] - 12s 2s/step - loss: 0.6943 - accuracy: 0.5364 - val_loss: 0.6878 - val_accuracy: 0.5405\n",
            "Epoch 19/100\n",
            "5/5 [==============================] - 12s 2s/step - loss: 0.6826 - accuracy: 0.5430 - val_loss: 0.6877 - val_accuracy: 0.5405\n",
            "Epoch 20/100\n",
            "5/5 [==============================] - 13s 3s/step - loss: 0.6946 - accuracy: 0.5298 - val_loss: 0.6878 - val_accuracy: 0.5405\n",
            "Epoch 21/100\n",
            "5/5 [==============================] - 13s 3s/step - loss: 0.6851 - accuracy: 0.5232 - val_loss: 0.6879 - val_accuracy: 0.5405\n",
            "Epoch 22/100\n",
            "5/5 [==============================] - 12s 2s/step - loss: 0.6898 - accuracy: 0.5298 - val_loss: 0.6876 - val_accuracy: 0.5405\n",
            "Epoch 23/100\n",
            "5/5 [==============================] - 12s 2s/step - loss: 0.6977 - accuracy: 0.5430 - val_loss: 0.6873 - val_accuracy: 0.5405\n",
            "Epoch 24/100\n",
            "5/5 [==============================] - 12s 2s/step - loss: 0.6940 - accuracy: 0.5033 - val_loss: 0.6888 - val_accuracy: 0.5405\n",
            "Epoch 25/100\n",
            "5/5 [==============================] - 12s 2s/step - loss: 0.6931 - accuracy: 0.5166 - val_loss: 0.6884 - val_accuracy: 0.5405\n",
            "Epoch 26/100\n",
            "5/5 [==============================] - 12s 2s/step - loss: 0.6881 - accuracy: 0.5364 - val_loss: 0.6874 - val_accuracy: 0.5405\n",
            "Epoch 27/100\n",
            "5/5 [==============================] - 12s 2s/step - loss: 0.6899 - accuracy: 0.5166 - val_loss: 0.6873 - val_accuracy: 0.5405\n",
            "Epoch 28/100\n",
            "5/5 [==============================] - 12s 2s/step - loss: 0.7029 - accuracy: 0.5298 - val_loss: 0.6873 - val_accuracy: 0.5405\n",
            "Epoch 29/100\n",
            "5/5 [==============================] - 12s 2s/step - loss: 0.6897 - accuracy: 0.5497 - val_loss: 0.6872 - val_accuracy: 0.5405\n",
            "Epoch 30/100\n",
            "5/5 [==============================] - 12s 2s/step - loss: 0.6866 - accuracy: 0.5563 - val_loss: 0.6890 - val_accuracy: 0.5405\n",
            "Epoch 31/100\n",
            "5/5 [==============================] - 12s 2s/step - loss: 0.6918 - accuracy: 0.5166 - val_loss: 0.6882 - val_accuracy: 0.5405\n",
            "Epoch 32/100\n",
            "5/5 [==============================] - 12s 2s/step - loss: 0.6885 - accuracy: 0.5298 - val_loss: 0.6885 - val_accuracy: 0.5405\n",
            "Epoch 33/100\n",
            "5/5 [==============================] - 12s 2s/step - loss: 0.6843 - accuracy: 0.5232 - val_loss: 0.6894 - val_accuracy: 0.5405\n",
            "Epoch 34/100\n",
            "5/5 [==============================] - 12s 2s/step - loss: 0.6898 - accuracy: 0.5695 - val_loss: 0.6895 - val_accuracy: 0.5405\n",
            "Epoch 35/100\n",
            "5/5 [==============================] - 12s 2s/step - loss: 0.6905 - accuracy: 0.5166 - val_loss: 0.6884 - val_accuracy: 0.5405\n",
            "Epoch 36/100\n",
            "5/5 [==============================] - 12s 2s/step - loss: 0.6861 - accuracy: 0.5430 - val_loss: 0.6880 - val_accuracy: 0.5405\n",
            "Epoch 37/100\n",
            "5/5 [==============================] - 12s 2s/step - loss: 0.6945 - accuracy: 0.5232 - val_loss: 0.6886 - val_accuracy: 0.5405\n",
            "Epoch 38/100\n",
            "5/5 [==============================] - 12s 2s/step - loss: 0.6901 - accuracy: 0.5232 - val_loss: 0.6881 - val_accuracy: 0.5405\n",
            "Epoch 39/100\n",
            "5/5 [==============================] - 12s 2s/step - loss: 0.6908 - accuracy: 0.5364 - val_loss: 0.6875 - val_accuracy: 0.5405\n",
            "Epoch 40/100\n",
            "5/5 [==============================] - 12s 2s/step - loss: 0.6891 - accuracy: 0.5232 - val_loss: 0.6874 - val_accuracy: 0.5405\n",
            "Epoch 41/100\n",
            "5/5 [==============================] - 12s 2s/step - loss: 0.6866 - accuracy: 0.5629 - val_loss: 0.6878 - val_accuracy: 0.5405\n",
            "Epoch 42/100\n",
            "5/5 [==============================] - 12s 2s/step - loss: 0.6942 - accuracy: 0.4967 - val_loss: 0.6886 - val_accuracy: 0.5405\n",
            "Epoch 43/100\n",
            "5/5 [==============================] - 12s 2s/step - loss: 0.6885 - accuracy: 0.5430 - val_loss: 0.6886 - val_accuracy: 0.5405\n",
            "Epoch 44/100\n",
            "5/5 [==============================] - 12s 2s/step - loss: 0.6897 - accuracy: 0.5497 - val_loss: 0.6882 - val_accuracy: 0.5405\n",
            "Epoch 45/100\n",
            "5/5 [==============================] - 12s 2s/step - loss: 0.6846 - accuracy: 0.5298 - val_loss: 0.6884 - val_accuracy: 0.5405\n",
            "Epoch 46/100\n",
            "5/5 [==============================] - 12s 2s/step - loss: 0.6862 - accuracy: 0.5430 - val_loss: 0.6879 - val_accuracy: 0.5405\n",
            "Epoch 47/100\n",
            "5/5 [==============================] - 12s 2s/step - loss: 0.6907 - accuracy: 0.5298 - val_loss: 0.6879 - val_accuracy: 0.5405\n",
            "Epoch 48/100\n",
            "5/5 [==============================] - 12s 2s/step - loss: 0.6900 - accuracy: 0.5232 - val_loss: 0.6877 - val_accuracy: 0.5405\n",
            "Epoch 49/100\n",
            "5/5 [==============================] - 12s 2s/step - loss: 0.6953 - accuracy: 0.5166 - val_loss: 0.6875 - val_accuracy: 0.5405\n",
            "Epoch 50/100\n",
            "5/5 [==============================] - 12s 2s/step - loss: 0.6870 - accuracy: 0.5430 - val_loss: 0.6874 - val_accuracy: 0.5405\n",
            "Epoch 51/100\n",
            "5/5 [==============================] - 12s 2s/step - loss: 0.6935 - accuracy: 0.5430 - val_loss: 0.6872 - val_accuracy: 0.5405\n",
            "Epoch 52/100\n",
            "5/5 [==============================] - 12s 2s/step - loss: 0.6889 - accuracy: 0.5298 - val_loss: 0.6872 - val_accuracy: 0.5405\n",
            "Epoch 53/100\n",
            "5/5 [==============================] - 12s 2s/step - loss: 0.6949 - accuracy: 0.5099 - val_loss: 0.6885 - val_accuracy: 0.5405\n",
            "Epoch 54/100\n",
            "5/5 [==============================] - 12s 2s/step - loss: 0.6824 - accuracy: 0.5497 - val_loss: 0.6881 - val_accuracy: 0.5405\n",
            "Epoch 55/100\n",
            "5/5 [==============================] - 12s 2s/step - loss: 0.6907 - accuracy: 0.5430 - val_loss: 0.6876 - val_accuracy: 0.5405\n",
            "Epoch 56/100\n",
            "5/5 [==============================] - 12s 2s/step - loss: 0.6955 - accuracy: 0.5099 - val_loss: 0.6877 - val_accuracy: 0.5405\n",
            "Epoch 57/100\n",
            "5/5 [==============================] - 12s 2s/step - loss: 0.6956 - accuracy: 0.5364 - val_loss: 0.6881 - val_accuracy: 0.5405\n",
            "Epoch 58/100\n",
            "5/5 [==============================] - 12s 2s/step - loss: 0.6947 - accuracy: 0.5298 - val_loss: 0.6885 - val_accuracy: 0.5405\n",
            "Epoch 59/100\n",
            "5/5 [==============================] - 12s 2s/step - loss: 0.6874 - accuracy: 0.5497 - val_loss: 0.6881 - val_accuracy: 0.5405\n",
            "Epoch 60/100\n",
            "5/5 [==============================] - 12s 2s/step - loss: 0.6938 - accuracy: 0.5033 - val_loss: 0.6890 - val_accuracy: 0.5405\n",
            "Epoch 61/100\n",
            "5/5 [==============================] - 12s 2s/step - loss: 0.6899 - accuracy: 0.5430 - val_loss: 0.6888 - val_accuracy: 0.5405\n",
            "Epoch 62/100\n",
            "5/5 [==============================] - 12s 2s/step - loss: 0.6825 - accuracy: 0.5828 - val_loss: 0.6884 - val_accuracy: 0.5405\n",
            "Epoch 63/100\n",
            "5/5 [==============================] - 12s 2s/step - loss: 0.6847 - accuracy: 0.5828 - val_loss: 0.6881 - val_accuracy: 0.5405\n",
            "Epoch 64/100\n",
            "5/5 [==============================] - 12s 2s/step - loss: 0.6882 - accuracy: 0.5364 - val_loss: 0.6876 - val_accuracy: 0.5405\n",
            "Epoch 65/100\n",
            "5/5 [==============================] - 12s 2s/step - loss: 0.6932 - accuracy: 0.5099 - val_loss: 0.6876 - val_accuracy: 0.5405\n",
            "Epoch 66/100\n",
            "5/5 [==============================] - 12s 2s/step - loss: 0.6888 - accuracy: 0.5298 - val_loss: 0.6874 - val_accuracy: 0.5405\n",
            "Epoch 67/100\n",
            "5/5 [==============================] - 12s 2s/step - loss: 0.6891 - accuracy: 0.5232 - val_loss: 0.6878 - val_accuracy: 0.5405\n",
            "Epoch 68/100\n",
            "5/5 [==============================] - 12s 2s/step - loss: 0.6888 - accuracy: 0.5497 - val_loss: 0.6878 - val_accuracy: 0.5405\n",
            "Epoch 69/100\n",
            "5/5 [==============================] - 12s 2s/step - loss: 0.6974 - accuracy: 0.5033 - val_loss: 0.6875 - val_accuracy: 0.5405\n",
            "Epoch 70/100\n",
            "5/5 [==============================] - 12s 2s/step - loss: 0.6938 - accuracy: 0.5298 - val_loss: 0.6873 - val_accuracy: 0.5405\n",
            "Epoch 71/100\n",
            "5/5 [==============================] - 12s 2s/step - loss: 0.6897 - accuracy: 0.5298 - val_loss: 0.6875 - val_accuracy: 0.5405\n",
            "Epoch 72/100\n",
            "5/5 [==============================] - 12s 2s/step - loss: 0.6915 - accuracy: 0.5497 - val_loss: 0.6880 - val_accuracy: 0.5405\n",
            "Epoch 73/100\n",
            "5/5 [==============================] - 12s 2s/step - loss: 0.6884 - accuracy: 0.5364 - val_loss: 0.6879 - val_accuracy: 0.5405\n",
            "Epoch 74/100\n",
            "5/5 [==============================] - 12s 2s/step - loss: 0.6901 - accuracy: 0.5298 - val_loss: 0.6880 - val_accuracy: 0.5405\n",
            "Epoch 75/100\n",
            "5/5 [==============================] - 12s 2s/step - loss: 0.6886 - accuracy: 0.5364 - val_loss: 0.6886 - val_accuracy: 0.5405\n",
            "Epoch 76/100\n",
            "5/5 [==============================] - 12s 2s/step - loss: 0.6847 - accuracy: 0.5430 - val_loss: 0.6881 - val_accuracy: 0.5405\n",
            "Epoch 77/100\n",
            "5/5 [==============================] - 12s 2s/step - loss: 0.6847 - accuracy: 0.5364 - val_loss: 0.6879 - val_accuracy: 0.5405\n",
            "Epoch 78/100\n",
            "5/5 [==============================] - 12s 2s/step - loss: 0.6878 - accuracy: 0.5364 - val_loss: 0.6875 - val_accuracy: 0.5405\n",
            "Epoch 79/100\n",
            "5/5 [==============================] - 12s 2s/step - loss: 0.6967 - accuracy: 0.5364 - val_loss: 0.6883 - val_accuracy: 0.5405\n",
            "Epoch 80/100\n",
            "5/5 [==============================] - 12s 2s/step - loss: 0.6835 - accuracy: 0.5497 - val_loss: 0.6876 - val_accuracy: 0.5405\n",
            "Epoch 81/100\n",
            "5/5 [==============================] - 12s 2s/step - loss: 0.6880 - accuracy: 0.5430 - val_loss: 0.6868 - val_accuracy: 0.5405\n",
            "Epoch 82/100\n",
            "5/5 [==============================] - 12s 2s/step - loss: 0.6929 - accuracy: 0.5364 - val_loss: 0.6870 - val_accuracy: 0.5405\n",
            "Epoch 83/100\n",
            "5/5 [==============================] - 12s 2s/step - loss: 0.6929 - accuracy: 0.5232 - val_loss: 0.6876 - val_accuracy: 0.5405\n",
            "Epoch 84/100\n",
            "5/5 [==============================] - 12s 2s/step - loss: 0.6888 - accuracy: 0.5298 - val_loss: 0.6883 - val_accuracy: 0.5405\n",
            "Epoch 85/100\n",
            "5/5 [==============================] - 12s 2s/step - loss: 0.6918 - accuracy: 0.4901 - val_loss: 0.6892 - val_accuracy: 0.5405\n",
            "Epoch 86/100\n",
            "5/5 [==============================] - 12s 2s/step - loss: 0.6895 - accuracy: 0.4967 - val_loss: 0.6893 - val_accuracy: 0.5405\n",
            "Epoch 87/100\n",
            "5/5 [==============================] - 12s 2s/step - loss: 0.6895 - accuracy: 0.5232 - val_loss: 0.6891 - val_accuracy: 0.5405\n",
            "Epoch 88/100\n",
            "5/5 [==============================] - 12s 2s/step - loss: 0.6820 - accuracy: 0.5894 - val_loss: 0.6877 - val_accuracy: 0.5405\n",
            "Epoch 89/100\n",
            "5/5 [==============================] - 12s 2s/step - loss: 0.7060 - accuracy: 0.5298 - val_loss: 0.6871 - val_accuracy: 0.5405\n",
            "Epoch 90/100\n",
            "5/5 [==============================] - 12s 2s/step - loss: 0.6864 - accuracy: 0.5166 - val_loss: 0.6877 - val_accuracy: 0.5405\n",
            "Epoch 91/100\n",
            "5/5 [==============================] - 12s 2s/step - loss: 0.6935 - accuracy: 0.5497 - val_loss: 0.6877 - val_accuracy: 0.5405\n",
            "Epoch 92/100\n",
            "5/5 [==============================] - 12s 2s/step - loss: 0.6880 - accuracy: 0.5298 - val_loss: 0.6872 - val_accuracy: 0.5405\n",
            "Epoch 93/100\n",
            "5/5 [==============================] - 12s 2s/step - loss: 0.6892 - accuracy: 0.5497 - val_loss: 0.6879 - val_accuracy: 0.5405\n",
            "Epoch 94/100\n",
            "5/5 [==============================] - 12s 2s/step - loss: 0.6908 - accuracy: 0.5232 - val_loss: 0.6888 - val_accuracy: 0.5405\n",
            "Epoch 95/100\n",
            "5/5 [==============================] - 12s 2s/step - loss: 0.6914 - accuracy: 0.5364 - val_loss: 0.6897 - val_accuracy: 0.5405\n",
            "Epoch 96/100\n",
            "5/5 [==============================] - 12s 2s/step - loss: 0.6912 - accuracy: 0.5563 - val_loss: 0.6884 - val_accuracy: 0.5405\n",
            "Epoch 97/100\n",
            "5/5 [==============================] - 12s 2s/step - loss: 0.6960 - accuracy: 0.5033 - val_loss: 0.6886 - val_accuracy: 0.5405\n",
            "Epoch 98/100\n",
            "5/5 [==============================] - 12s 2s/step - loss: 0.6906 - accuracy: 0.5099 - val_loss: 0.6880 - val_accuracy: 0.5405\n",
            "Epoch 99/100\n",
            "5/5 [==============================] - 12s 2s/step - loss: 0.6866 - accuracy: 0.5364 - val_loss: 0.6878 - val_accuracy: 0.5405\n",
            "Epoch 100/100\n",
            "5/5 [==============================] - 12s 2s/step - loss: 0.6875 - accuracy: 0.5497 - val_loss: 0.6881 - val_accuracy: 0.5405\n"
          ]
        }
      ],
      "source": [
        "epochs=100\n",
        "\n",
        "history = EfficientNetB0_model.fit(\n",
        "    train_generator,\n",
        "    validation_data=valid_generator,\n",
        "    epochs=100\n",
        ")"
      ]
    },
    {
      "cell_type": "code",
      "execution_count": 85,
      "id": "89b6544d",
      "metadata": {
        "colab": {
          "base_uri": "https://localhost:8080/",
          "height": 295
        },
        "id": "89b6544d",
        "outputId": "be473db3-1688-45af-fb30-676a96daa866"
      },
      "outputs": [
        {
          "output_type": "display_data",
          "data": {
            "text/plain": [
              "<Figure size 432x288 with 1 Axes>"
            ],
            "image/png": "[encoded data removed]"
          },
          "metadata": {
            "needs_background": "light"
          }
        }
      ],
      "source": [
        "  # Model Evaluation\n",
        "\n",
        "  fig1 = plt.gcf()\n",
        "  plt.plot(history.history['accuracy'])\n",
        "  plt.plot(history.history['val_accuracy'])\n",
        "  plt.axis(ymin=0.4,ymax=1)\n",
        "  plt.grid()\n",
        "  plt.title('Model Accuracy')\n",
        "  plt.ylabel('Accuracy')\n",
        "  plt.xlabel('Epochs')\n",
        "  plt.legend(['train', 'validation'])\n",
        "  plt.show()"
      ]
    },
    {
      "cell_type": "code",
      "execution_count": null,
      "id": "3ed83dba",
      "metadata": {
        "id": "3ed83dba"
      },
      "outputs": [],
      "source": [
        "predictions = np.array([])\n",
        "labels =  np.array([])\n",
        "for x, y in val_ds:\n",
        "  predicted_categories = np.argmax(EfficientNetB4_model.predict(x), axis = 1)\n",
        "  predictions = np.concatenate([predictions, predicted_categories])\n",
        "  labels = np.concatenate([labels, y.numpy()], axis=0)\n",
        "\n",
        "tf.math.confusion_matrix(labels=labels, predictions=predictions).numpy()"
      ]
    },
    {
      "cell_type": "code",
      "execution_count": null,
      "id": "da1a550f",
      "metadata": {
        "id": "da1a550f"
      },
      "outputs": [],
      "source": [
        "print(classification_report(labels, predictions, target_names=classnames))"
      ]
    }
  ],
  "metadata": {
    "kernelspec": {
      "display_name": "Python 3",
      "language": "python",
      "name": "python3"
    },
    "language_info": {
      "codemirror_mode": {
        "name": "ipython",
        "version": 3
      },
      "file_extension": ".py",
      "mimetype": "text/x-python",
      "name": "python",
      "nbconvert_exporter": "python",
      "pygments_lexer": "ipython3",
      "version": "3.8.8"
    },
    "colab": {
      "name": "Ripeness_detection",
      "provenance": [],
      "collapsed_sections": []
    },
    "accelerator": "TPU",
    "gpuClass": "standard"
  },
  "nbformat": 4,
  "nbformat_minor": 5
}