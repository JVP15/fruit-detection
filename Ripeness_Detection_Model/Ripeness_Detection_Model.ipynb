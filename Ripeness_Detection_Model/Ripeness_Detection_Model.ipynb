{
 "cells": [
  {
   "cell_type": "code",
   "execution_count": 1,
   "metadata": {
    "id": "4d65596a"
   },
   "outputs": [],
   "source": [
    "from keras.models import Sequential\n",
    "import tensorflow as tf\n",
    "from tensorflow.keras.layers import RandomFlip,RandomRotation \n",
    "from keras.layers.core import Dense, Activation, Dropout, Flatten\n",
    "from keras.layers.convolutional import Convolution2D, MaxPooling2D\n",
    "from tensorflow.keras.layers import Conv2D\n",
    "from tensorflow.keras.optimizers import SGD, RMSprop, Adam\n",
    "from keras.utils import np_utils\n",
    "from sklearn.tree import DecisionTreeClassifier # Import Decision Tree Classifier\n",
    "from sklearn import metrics\n",
    "from sklearn.utils import shuffle\n",
    "from sklearn.model_selection import train_test_split\n",
    "import matplotlib.image as mpimg\n",
    "import matplotlib.pyplot as plt\n",
    "import numpy as np\n",
    "import osr\n",
    "import cv2\n",
    "import random\n",
    "from numpy import *\n",
    "from PIL import Image\n",
    "import tensorflow_hub as hub"
   ],
   "id": "4d65596a"
  },
  {
   "cell_type": "code",
   "execution_count": 2,
   "metadata": {
    "colab": {
     "base_uri": "https://localhost:8080/"
    },
    "id": "515377e0",
    "outputId": "ffa1eb98-796e-4154-8b49-d14e4bbd0a82"
   },
   "outputs": [
    {
     "output_type": "stream",
     "name": "stdout",
     "text": [
      "Mounted at /content/drive\n"
     ]
    }
   ],
   "source": [
    "from google.colab import drive\n",
    "drive.mount('/content/drive')\n",
    "#TRAINING_DATA_DIR = \"C:\\\\Users\\\\Nancy Saxena\\\\2\\\\Apple\\\\Train\\\\\"\n",
    "#VALIDATION_DATA_DIR = \"C:\\\\Users\\\\Nancy Saxena\\\\2\\\\Apple\\\\Validation\\\\\"\n",
    "TRAINING_DATA_DIR = \"/content/drive/MyDrive/data/train\"\n",
    "TEST_DATA_DIR = \"/content/drive/MyDrive/data/test\""
   ],
   "id": "515377e0"
  },
  {
   "cell_type": "code",
   "execution_count": 3,
   "metadata": {
    "id": "7CR0w6kq-nFg"
   },
   "outputs": [],
   "source": [
    "import os\n",
    "for image in os.listdir( \"/content/drive/MyDrive/data/train/Unripe\"):\n",
    "  filepath =  \"/content/drive/MyDrive/data/train/Unripe\" + '/'+image\n",
    "  im = Image.open(filepath)\n",
    " # If is png image\n",
    "  if im.format is 'PNG':\n",
    "    # and is not RGBA\n",
    "    if im.mode is not 'RGB':\n",
    "       im.convert(\"RGB\").save(f\"{image}.png\")"
   ],
   "id": "7CR0w6kq-nFg"
  },
  {
   "cell_type": "code",
   "execution_count": 4,
   "metadata": {
    "colab": {
     "base_uri": "https://localhost:8080/"
    },
    "id": "lyHrH30HBclZ",
    "outputId": "c8b523bc-180c-4714-9e24-857243452938"
   },
   "outputs": [
    {
     "output_type": "stream",
     "name": "stderr",
     "text": [
      "/usr/local/lib/python3.7/dist-packages/PIL/Image.py:960: UserWarning: Palette images with Transparency expressed in bytes should be converted to RGBA images\n",
      "  \"Palette images with Transparency expressed in bytes should be \"\n"
     ]
    }
   ],
   "source": [
    "import os\n",
    "for image in os.listdir(\"/content/drive/MyDrive/data/train/Ripe\"):\n",
    "  filepath =  \"/content/drive/MyDrive/data/train/Ripe\" + '/'+image\n",
    "  im = Image.open(filepath)\n",
    " # If is png image\n",
    "  if (im.format is 'PNG'):\n",
    "    # and is not RGBA\n",
    "    if im.mode is not 'RGB':\n",
    "       im.convert(\"RGB\").save(f\"{image}.png\")\n",
    "  if (im.format is 'JPG'):\n",
    "    # and is not RGBA\n",
    "    if im.mode is not 'RGB':\n",
    "       im.convert(\"RGB\").save(f\"{image}.png\")"
   ],
   "id": "lyHrH30HBclZ"
  },
  {
   "cell_type": "code",
   "execution_count": 5,
   "metadata": {
    "id": "0096c0b2"
   },
   "outputs": [],
   "source": [
    "IMAGE_SHAPE = (224, 224) # (height, width) in no. of pixels"
   ],
   "id": "0096c0b2"
  },
  {
   "cell_type": "code",
   "execution_count": 6,
   "metadata": {
    "id": "fcd1b682"
   },
   "outputs": [],
   "source": [
    "datagen_kwargs = dict(rescale=1./255, \n",
    "        validation_split=.20,\n",
    "        vertical_flip=True)"
   ],
   "id": "fcd1b682"
  },
  {
   "cell_type": "markdown",
   "metadata": {
    "id": "65d8be0c"
   },
   "source": [
    "import os\n",
    "os.getcwd()\n",
    "collection = TRAINING_DATA_DIR\n",
    "for i, filename in enumerate(os.listdir(collection)):\n",
    "    os.rename(TRAINING_DATA_DIR + \"\\\\\" + filename, TRAINING_DATA_DIR  + \"\\\\\" + str(i) + \".jpg\")"
   ],
   "id": "65d8be0c"
  },
  {
   "cell_type": "code",
   "execution_count": 7,
   "metadata": {
    "colab": {
     "base_uri": "https://localhost:8080/"
    },
    "id": "63fae1ad",
    "outputId": "b5cd8d5e-6e66-4cf9-8cd1-12477abf27c4"
   },
   "outputs": [
    {
     "output_type": "stream",
     "name": "stdout",
     "text": [
      "Found 225 images belonging to 2 classes.\n",
      "Found 904 images belonging to 2 classes.\n"
     ]
    }
   ],
   "source": [
    "valid_datagen = tf.keras.preprocessing.image.ImageDataGenerator(**datagen_kwargs)\n",
    "valid_generator = valid_datagen.flow_from_directory(\n",
    "TRAINING_DATA_DIR,\n",
    "subset='validation',\n",
    "shuffle=True,\n",
    "seed=110,\n",
    "target_size=IMAGE_SHAPE\n",
    ")\n",
    "train_datagen = tf.keras.preprocessing.image.ImageDataGenerator(**datagen_kwargs)\n",
    "train_generator = train_datagen.flow_from_directory(\n",
    "TRAINING_DATA_DIR,\n",
    "subset='training',\n",
    "shuffle=True,\n",
    "seed=110,\n",
    "target_size=IMAGE_SHAPE)"
   ],
   "id": "63fae1ad"
  },
  {
   "cell_type": "code",
   "execution_count": 8,
   "metadata": {
    "colab": {
     "base_uri": "https://localhost:8080/"
    },
    "id": "b8bbec88",
    "outputId": "f6b5c604-a9df-4dde-baa9-8a581e4351d3"
   },
   "outputs": [
    {
     "output_type": "stream",
     "name": "stdout",
     "text": [
      "{'Ripe': 0, 'Unripe': 1}\n"
     ]
    }
   ],
   "source": [
    "print (train_generator.class_indices)"
   ],
   "id": "b8bbec88"
  },
  {
   "cell_type": "code",
   "execution_count": 9,
   "metadata": {
    "id": "e392805e"
   },
   "outputs": [],
   "source": [
    "labels = '\\n'.join(sorted(train_generator.class_indices.keys()))\n",
    "with open('labels.txt', 'w') as f:\n",
    " f.write(labels)"
   ],
   "id": "e392805e"
  },
  {
   "cell_type": "markdown",
   "source": [
    "# Mobilenet_v2 "
   ],
   "metadata": {
    "collapsed": false,
    "pycharm": {
     "name": "#%% md\n"
    }
   }
  },
  {
   "cell_type": "code",
   "source": [
    "\n",
    "X_test = [] # test fruit images\n",
    "y_test = []\n",
    "import glob\n",
    "for dir_path in glob.glob(\"/content/drive/MyDrive/data/test/*\"):\n",
    "    img_label = dir_path.split(\"/\")[-1]\n",
    "    for img_path in glob.glob(os.path.join(dir_path, \"*.png\")):\n",
    "        img = cv2.imread(img_path)\n",
    "        img = cv2.resize(img, (224, 224))\n",
    "        img = cv2.cvtColor(img, cv2.COLOR_BGR2RGB)\n",
    "        X_test.append(img)\n",
    "        y_test.append(img_label)\n",
    "\n",
    "X_test=np.array(X_test)\n",
    "y_test=np.array(y_test)"
   ],
   "metadata": {
    "id": "l0PuNiINHQcT"
   },
   "id": "l0PuNiINHQcT",
   "execution_count": 16,
   "outputs": []
  },
  {
   "cell_type": "code",
   "execution_count": 17,
   "metadata": {
    "colab": {
     "base_uri": "https://localhost:8080/"
    },
    "id": "1x8o4OwAvitV",
    "outputId": "8843e4af-45c5-4355-fcda-5dcaac05059f"
   },
   "outputs": [
    {
     "output_type": "stream",
     "name": "stdout",
     "text": [
      "4/4 [==============================] - 4s 776ms/step\n"
     ]
    }
   ],
   "source": [
    "predict =  model.predict(X_test)"
   ],
   "id": "1x8o4OwAvitV"
  },
  {
   "cell_type": "code",
   "source": [
    "# Now we need to have them labeled with numbers from 0 - 120 \n",
    "label_to_id={v:k for k, v in enumerate(np.unique(y_test))}\n",
    "#print(label_to_id)\n",
    "\n",
    "y_test_label_id = np.array([label_to_id[i] for i in y_test])\n",
    "\n",
    "# We need to translate this to be \"one hot encoded\" so our CNN can understand, \n",
    "# otherwise it will think this is some sort of regression problem on a continuous axis\n",
    "\n",
    "from keras.utils.np_utils import to_categorical\n",
    "\n",
    "\n",
    "y_cat_test_label_id=to_categorical(y_test_label_id)"
   ],
   "metadata": {
    "id": "MPo0mKiHIALa"
   },
   "id": "MPo0mKiHIALa",
   "execution_count": 24,
   "outputs": []
  },
  {
   "cell_type": "code",
   "execution_count": 26,
   "metadata": {
    "colab": {
     "base_uri": "https://localhost:8080/"
    },
    "id": "t-dIXbf9yhsd",
    "outputId": "9ebf67d1-0709-4b60-c67c-af967a72359f"
   },
   "outputs": [
    {
     "output_type": "execute_result",
     "data": {
      "text/plain": [
       "[1,\n",
       " 1,\n",
       " 1,\n",
       " 1,\n",
       " 1,\n",
       " 1,\n",
       " 1,\n",
       " 0,\n",
       " 1,\n",
       " 0,\n",
       " 1,\n",
       " 1,\n",
       " 1,\n",
       " 1,\n",
       " 1,\n",
       " 1,\n",
       " 1,\n",
       " 1,\n",
       " 1,\n",
       " 1,\n",
       " 1,\n",
       " 1,\n",
       " 1,\n",
       " 1,\n",
       " 1,\n",
       " 1,\n",
       " 0,\n",
       " 1,\n",
       " 1,\n",
       " 1,\n",
       " 1,\n",
       " 1,\n",
       " 1,\n",
       " 1,\n",
       " 1,\n",
       " 1,\n",
       " 1,\n",
       " 1,\n",
       " 1,\n",
       " 1,\n",
       " 1,\n",
       " 1,\n",
       " 1,\n",
       " 1,\n",
       " 1,\n",
       " 1,\n",
       " 1,\n",
       " 1,\n",
       " 1,\n",
       " 1,\n",
       " 1,\n",
       " 1,\n",
       " 1,\n",
       " 1,\n",
       " 1,\n",
       " 1,\n",
       " 1,\n",
       " 1,\n",
       " 1,\n",
       " 1,\n",
       " 1,\n",
       " 1,\n",
       " 1,\n",
       " 1,\n",
       " 1,\n",
       " 1,\n",
       " 1,\n",
       " 1,\n",
       " 1,\n",
       " 1,\n",
       " 1,\n",
       " 1,\n",
       " 1,\n",
       " 1,\n",
       " 1,\n",
       " 1,\n",
       " 1,\n",
       " 1,\n",
       " 1,\n",
       " 1,\n",
       " 1,\n",
       " 1,\n",
       " 1,\n",
       " 1,\n",
       " 1,\n",
       " 1,\n",
       " 1,\n",
       " 1,\n",
       " 1,\n",
       " 1,\n",
       " 1,\n",
       " 1,\n",
       " 1,\n",
       " 1,\n",
       " 0,\n",
       " 1,\n",
       " 1,\n",
       " 1,\n",
       " 1,\n",
       " 1,\n",
       " 1,\n",
       " 1,\n",
       " 1,\n",
       " 1,\n",
       " 1,\n",
       " 1,\n",
       " 1,\n",
       " 1,\n",
       " 1,\n",
       " 1]"
      ]
     },
     "metadata": {},
     "execution_count": 26
    }
   ],
   "source": [
    "y_pred=[]\n",
    "class_names = [0,1]\n",
    "\n",
    "for i in range(len(predict)):\n",
    " y_pred.append(class_names[np.argmax(predict[i])])\n",
    "\n",
    "\n",
    "y_pred"
   ],
   "id": "t-dIXbf9yhsd"
  },
  {
   "cell_type": "code",
   "execution_count": 30,
   "metadata": {
    "colab": {
     "base_uri": "https://localhost:8080/",
     "height": 265
    },
    "id": "rL_5Eo3lwmZd",
    "outputId": "387b50f9-05c5-4795-9ca8-0a725cb8c34f"
   },
   "outputs": [
    {
     "output_type": "display_data",
     "data": {
      "text/plain": [
       "<Figure size 432x288 with 2 Axes>"
      ],
      "image/png": "[encoded data removed]"
     },
     "metadata": {
      "needs_background": "light"
     }
    }
   ],
   "source": [
    "import matplotlib\n",
    "from sklearn.metrics import confusion_matrix\n",
    "from sklearn.metrics import plot_confusion_matrix\n",
    "import seaborn as sns\n",
    "mat = confusion_matrix(\n",
    "y_test_label_id,y_pred )\n",
    "\n",
    "ax = sns.heatmap(mat, annot=True, cmap='Blues')\n"
   ],
   "id": "rL_5Eo3lwmZd"
  },
  {
   "cell_type": "code",
   "execution_count": 39,
   "metadata": {
    "colab": {
     "base_uri": "https://localhost:8080/"
    },
    "id": "AeDRDmM81WdB",
    "outputId": "7acb9521-9152-40c2-add4-722dc9a2c101"
   },
   "outputs": [
    {
     "output_type": "execute_result",
     "data": {
      "text/plain": [
       "0.7164155432196669"
      ]
     },
     "metadata": {},
     "execution_count": 39
    }
   ],
   "source": [
    "import sklearn\n",
    "sklearn.metrics.f1_score(y_test_label_id, y_pred,average='weighted')"
   ],
   "id": "AeDRDmM81WdB"
  },
  {
   "cell_type": "code",
   "source": [
    "\n",
    "print(sklearn.metrics.classification_report(y_test_label_id, y_pred, target_names = ['class 0', 'class 1']))"
   ],
   "metadata": {
    "colab": {
     "base_uri": "https://localhost:8080/"
    },
    "id": "8_RHGpUR2rls",
    "outputId": "02f9d3f3-7127-4348-d70e-6429d6484a46"
   },
   "id": "8_RHGpUR2rls",
   "execution_count": 34,
   "outputs": [
    {
     "output_type": "stream",
     "name": "stdout",
     "text": [
      "              precision    recall  f1-score   support\n",
      "\n",
      "     class 0       0.25      0.05      0.08        22\n",
      "     class 1       0.80      0.97      0.88        88\n",
      "\n",
      "    accuracy                           0.78       110\n",
      "   macro avg       0.53      0.51      0.48       110\n",
      "weighted avg       0.69      0.78      0.72       110\n",
      "\n"
     ]
    }
   ]
  },
  {
   "cell_type": "code",
   "execution_count": 35,
   "metadata": {
    "id": "9c448c97"
   },
   "outputs": [],
   "source": [
    "model.save_weights(filepath='final_weight_mobilenet.h5')"
   ],
   "id": "9c448c97"
  },
  {
   "cell_type": "code",
   "execution_count": 36,
   "metadata": {
    "id": "6eafd58d"
   },
   "outputs": [],
   "source": [
    "model.save('mobilenetv2')"
   ],
   "id": "6eafd58d"
  },
  {
   "cell_type": "code",
   "execution_count": 37,
   "metadata": {
    "colab": {
     "base_uri": "https://localhost:8080/",
     "height": 566
    },
    "id": "fb36e57b",
    "outputId": "5cc7ebf8-f96a-4add-b52e-3c94e42a416b"
   },
   "outputs": [
    {
     "output_type": "execute_result",
     "data": {
      "text/plain": [
       "[<matplotlib.lines.Line2D at 0x7f6b97201710>]"
      ]
     },
     "metadata": {},
     "execution_count": 37
    },
    {
     "output_type": "display_data",
     "data": {
      "text/plain": [
       "<Figure size 432x288 with 1 Axes>"
      ],
      "image/png": "[encoded data removed]"
     },
     "metadata": {
      "needs_background": "light"
     }
    },
    {
     "output_type": "display_data",
     "data": {
      "text/plain": [
       "<Figure size 432x288 with 1 Axes>"
      ],
      "image/png": "[encoded data removed]"
     },
     "metadata": {
      "needs_background": "light"
     }
    }
   ],
   "source": [
    "plt.figure()\n",
    "plt.ylabel('Loss (training and validation)')\n",
    "plt.xlabel('Training Steps')\n",
    "plt.ylim([0,50])\n",
    "plt.plot(hist['loss'])\n",
    "plt.plot(hist['val_loss'])\n",
    "plt.figure()\n",
    "plt.ylabel('Accuracy (training and validation)')\n",
    "plt.xlabel('Training Steps')\n",
    "plt.ylim([0,1])\n",
    "plt.plot(hist['acc'])\n",
    "plt.plot(hist['val_acc'])"
   ],
   "id": "fb36e57b"
  }
 ],
 "metadata": {
  "accelerator": "TPU",
  "colab": {
   "collapsed_sections": [],
   "provenance": []
  },
  "gpuClass": "standard",
  "kernelspec": {
   "display_name": "Python 3",
   "language": "python",
   "name": "python3"
  },
  "language_info": {
   "codemirror_mode": {
    "name": "ipython",
    "version": 3
   },
   "file_extension": ".py",
   "mimetype": "text/x-python",
   "name": "python",
   "nbconvert_exporter": "python",
   "pygments_lexer": "ipython3",
   "version": "3.8.8"
  }
 },
 "nbformat": 4,
 "nbformat_minor": 5
}