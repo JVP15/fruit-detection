{
 "cells": [
  {
   "cell_type": "markdown",
   "source": [
    "# Deep Fruit Vision Evaluation\n",
    "\n",
    "Our detection, ripeness, and defect models are all trained and tested on different datasets. This notebook evaluates the overall performance of Deep Fruit Vision on a unique, hand-labelled test dataset."
   ],
   "metadata": {
    "collapsed": false,
    "pycharm": {
     "name": "#%% md\n"
    }
   }
  },
  {
   "cell_type": "code",
   "execution_count": 1,
   "metadata": {
    "pycharm": {
     "name": "#%%\n"
    }
   },
   "outputs": [],
   "source": [
    "import os\n",
    "from modules.datasets import TestDataset, save_dataset\n",
    "import matplotlib.pyplot as plt"
   ]
  },
  {
   "cell_type": "code",
   "execution_count": 2,
   "outputs": [],
   "source": [
    "detection_weights = os.path.join('weights', 'detection', 'best.pt')\n",
    "ripeness_weights = os.path.join('weights', 'ripeness', 'ripeness_model')\n",
    "defect_weights = os.path.join('weights', 'disease', 'defect_model')"
   ],
   "metadata": {
    "collapsed": false,
    "pycharm": {
     "name": "#%%\n"
    }
   }
  },
  {
   "cell_type": "markdown",
   "source": [
    "We can use the TestDataset class to easily load images and labels from the test dataset."
   ],
   "metadata": {
    "collapsed": false,
    "pycharm": {
     "name": "#%% md\n"
    }
   }
  },
  {
   "cell_type": "code",
   "execution_count": 3,
   "metadata": {
    "pycharm": {
     "name": "#%%\n"
    }
   },
   "outputs": [],
   "source": [
    "test_dataset = TestDataset('dataset')"
   ]
  },
  {
   "cell_type": "markdown",
   "source": [
    "## Detection mAP\n",
    "\n",
    "The detection/Yolo-v5 model is responsible for detecting and classifying fruits, so we can just use Yolo-v5's built-in evaluation script."
   ],
   "metadata": {
    "collapsed": false,
    "pycharm": {
     "name": "#%% md\n"
    }
   }
  },
  {
   "cell_type": "code",
   "execution_count": 4,
   "outputs": [
    {
     "name": "stderr",
     "output_type": "stream",
     "text": [
      "Saving dataset to dataset\\yolov5_test\\images and dataset\\yolov5_test\\labels:  31%|███       | 9/29 [00:00<00:00, 80.23it/s]"
     ]
    },
    {
     "name": "stdout",
     "output_type": "stream",
     "text": [
      "   class         x         y         w        h\n",
      "0      1  0.503868  0.407806  0.992263  0.30148\n",
      "   class         x         y         w         h\n",
      "0      2  0.442482  0.502019  0.735621  0.864065\n",
      "1      2  0.747730  0.240915  0.278507  0.398385\n",
      "   class         x         y         w         h\n",
      "0      2  0.397590  0.437416  0.333333  0.312248\n",
      "1      2  0.564257  0.587483  0.297189  0.262450\n",
      "   class         x         y         w         h\n",
      "0      1  0.491921  0.503365  0.725314  0.969044\n",
      "1      1  0.206463  0.162180  0.341113  0.324361\n",
      "2      1  0.885996  0.180350  0.202873  0.358008\n",
      "   class         x         y         w         h\n",
      "0      2  0.485533  0.539031  0.786618  0.827725\n",
      "   class         x         y         w         h\n",
      "0      1  0.528708  0.378869  0.794258  0.641992\n",
      "1      1  0.718900  0.732167  0.490431  0.255720\n",
      "2      1  0.228469  0.611036  0.456938  0.358008\n",
      "3      1  0.166268  0.170929  0.318182  0.341857\n",
      "   class         x         y         w         h\n",
      "0      2  0.587971  0.848587  0.149013  0.173620\n",
      "1      2  0.620287  0.524226  0.145422  0.181696\n",
      "2      2  0.370736  0.506057  0.152603  0.177658\n",
      "   class         x         y         w         h\n",
      "0      1  0.255564  0.501435  0.416368  0.997131\n",
      "1      1  0.715004  0.506456  0.506820  0.987088\n",
      "   class         x         y         w         h\n",
      "0      1  0.685859  0.603634  0.296970  0.372813\n",
      "1      1  0.426263  0.426649  0.286869  0.449529\n",
      "2      1  0.681818  0.272544  0.341414  0.351279\n",
      "3      1  0.265657  0.063930  0.147475  0.125168\n",
      "4      1  0.392929  0.122476  0.200000  0.236878\n",
      "   class         x         y         w         h\n",
      "0      1  0.702242  0.588156  0.303139  0.788694\n",
      "1      1  0.467265  0.341857  0.229596  0.646030\n",
      "2      1  0.335426  0.518843  0.161435  0.574697\n",
      "3      1  0.850673  0.158143  0.221525  0.316285\n",
      "   class    x        y         w         h\n",
      "0      2  0.5  0.48856  0.736205  0.955585\n",
      "   class         x         y         w         h\n",
      "0      1  0.638340  0.318304  0.116601  0.313594\n",
      "1      1  0.718874  0.467026  0.068182  0.312248\n",
      "2      1  0.828063  0.474428  0.120553  0.510094\n",
      "3      1  0.847826  0.108345  0.079051  0.216689\n",
      "4      1  0.591403  0.134590  0.078063  0.266487\n",
      "5      1  0.556324  0.374832  0.090909  0.273217\n",
      "6      1  0.730237  0.649394  0.112648  0.270525\n",
      "7      1  0.866601  0.711978  0.069170  0.172275\n",
      "8      1  0.937253  0.452894  0.107708  0.313594\n",
      "    class         x         y         w         h\n",
      "0       1  0.644684  0.550471  0.271871  0.304172\n",
      "1       1  0.209287  0.699192  0.270525  0.300135\n",
      "2       1  0.407133  0.658816  0.232840  0.402423\n",
      "3       1  0.718035  0.815612  0.224764  0.263795\n",
      "4       1  0.460969  0.202557  0.176312  0.173620\n",
      "5       1  0.584118  0.308210  0.142665  0.158816\n",
      "6       1  0.437416  0.349933  0.121131  0.102288\n",
      "7       1  0.298116  0.490579  0.300135  0.200538\n",
      "8       1  0.251009  0.417900  0.248991  0.179004\n",
      "9       1  0.316285  0.238896  0.188425  0.173620\n",
      "10      1  0.229475  0.157470  0.117093  0.104980\n",
      "11      1  0.604307  0.142665  0.129206  0.180350\n",
      "12      1  0.701884  0.300135  0.133244  0.129206\n",
      "13      1  0.721400  0.446837  0.150740  0.139973\n",
      "14      1  0.801480  0.569987  0.079408  0.119785\n",
      "15      1  0.773217  0.405114  0.125168  0.107672\n",
      "   class         x         y         w         h\n",
      "0      1  0.514124  0.450202  0.659887  0.822342\n",
      "   class         x         y         w         h\n",
      "0      2  0.582585  0.475101  0.558348  0.503365\n",
      "1      2  0.325853  0.290713  0.651706  0.376851\n",
      "2      2  0.182226  0.714670  0.364452  0.522207\n",
      "3      2  0.777379  0.257739  0.341113  0.337820\n",
      "   class         x         y         w         h\n",
      "0      1  0.758311  0.488560  0.377358  0.567968\n",
      "1      1  0.476190  0.652759  0.265948  0.487214\n",
      "2      1  0.214286  0.620458  0.374663  0.605653\n"
     ]
    },
    {
     "name": "stderr",
     "output_type": "stream",
     "text": [
      "Saving dataset to dataset\\yolov5_test\\images and dataset\\yolov5_test\\labels: 100%|██████████| 29/29 [00:00<00:00, 80.76it/s]"
     ]
    },
    {
     "name": "stdout",
     "output_type": "stream",
     "text": [
      "   class        x         y         w         h\n",
      "0      2  0.48833  0.515478  0.603232  0.732167\n",
      "   class         x         y         w         h\n",
      "0      2  0.513475  0.517497  0.944681  0.927322\n",
      "   class         x        y         w         h\n",
      "0      1  0.565817  0.48183  0.575372  0.810229\n",
      "   class         x         y         w         h\n",
      "0      1  0.708880  0.502019  0.572149  0.982503\n",
      "1      1  0.310797  0.576043  0.518668  0.837147\n",
      "2      1  0.337538  0.153432  0.356206  0.296097\n",
      "   class         x         y         w         h\n",
      "0      1  0.631846  0.781965  0.115619  0.185734\n",
      "1      1  0.617647  0.496635  0.123732  0.207268\n",
      "2      1  0.552738  0.372140  0.103448  0.138627\n",
      "3      1  0.431034  0.395020  0.115619  0.157470\n",
      "4      1  0.382353  0.514805  0.099391  0.154778\n",
      "5      1  0.347870  0.376851  0.103448  0.134590\n",
      "   class         x         y         w         h\n",
      "0      2  0.346499  0.646030  0.377020  0.384926\n",
      "1      2  0.582585  0.632571  0.174147  0.242261\n",
      "   class         x         y         w         h\n",
      "0      1  0.282131  0.731173  0.294053  0.381982\n",
      "1      1  0.603006  0.308717  0.343724  0.498347\n",
      "2      1  0.187104  0.125841  0.251586  0.251682\n",
      "3      1  0.211416  0.271198  0.169133  0.208614\n",
      "4      1  0.837209  0.094213  0.173362  0.188425\n",
      "5      1  0.908034  0.086810  0.175476  0.168237\n",
      "6      1  0.409091  0.047106  0.268499  0.091521\n",
      "    class         x         y         w         h\n",
      "0       1  0.449726  0.523553  0.157221  0.169583\n",
      "1       1  0.350091  0.553836  0.111517  0.179004\n",
      "2       1  0.407678  0.382234  0.237660  0.123822\n",
      "3       1  0.532907  0.244953  0.202925  0.145357\n",
      "4       1  0.702011  0.211306  0.146252  0.078062\n",
      "5       1  0.811700  0.218035  0.087751  0.072678\n",
      "6       1  0.787934  0.554509  0.102377  0.193809\n",
      "7       1  0.562157  0.392328  0.122486  0.076716\n",
      "8       1  0.681901  0.379542  0.113346  0.069987\n",
      "9       1  0.726691  0.298116  0.166362  0.076716\n",
      "10      1  0.371115  0.296097  0.146252  0.096904\n",
      "    class         x         y         w         h\n",
      "0       2  0.491766  0.643357  0.097896  0.199301\n",
      "1       2  0.360476  0.816434  0.067704  0.150350\n",
      "2       2  0.212260  0.558566  0.054895  0.127622\n",
      "3       2  0.292772  0.244755  0.078683  0.150350\n",
      "4       2  0.105215  0.206294  0.073193  0.143357\n",
      "5       2  0.680238  0.436189  0.086917  0.155594\n",
      "6       2  0.700366  0.233392  0.085087  0.138112\n",
      "7       2  0.803294  0.333042  0.042086  0.243007\n",
      "8       2  0.723696  0.743007  0.056725  0.139860\n",
      "9       2  0.520586  0.286713  0.086002  0.157343\n",
      "10      2  0.428637  0.154720  0.090576  0.180070\n",
      "11      2  0.503660  0.102273  0.090576  0.169580\n",
      "12      2  0.472095  0.429196  0.091491  0.173077\n",
      "   class         x         y         w         h\n",
      "0      1  0.244843  0.199192  0.102242  0.218035\n",
      "1      1  0.417489  0.315612  0.095964  0.197847\n",
      "2      1  0.154709  0.401077  0.146188  0.212651\n",
      "3      1  0.192825  0.581427  0.129148  0.209960\n",
      "4      1  0.253812  0.443472  0.055605  0.122476\n",
      "5      1  0.235874  0.792732  0.127354  0.247645\n",
      "6      1  0.313004  0.644684  0.113004  0.231494\n",
      "7      1  0.426009  0.631225  0.145291  0.341857\n",
      "8      1  0.506726  0.572005  0.134529  0.274563\n",
      "   class         x         y         w         h\n",
      "0      2  0.303957  0.532974  0.172662  0.239569\n",
      "1      2  0.642986  0.606999  0.196043  0.269179\n",
      "2      2  0.467626  0.611036  0.241007  0.290713\n",
      "3      2  0.505396  0.298116  0.237410  0.267833\n",
      "    class         x         y         w         h\n",
      "0       1  0.398129  0.102961  0.218295  0.127860\n",
      "1       1  0.589397  0.121803  0.164241  0.098250\n",
      "2       1  0.735967  0.090175  0.216216  0.137281\n",
      "3       1  0.538462  0.032301  0.116424  0.061911\n",
      "4       1  0.253638  0.318304  0.207900  0.117093\n",
      "5       1  0.487526  0.241588  0.164241  0.127860\n",
      "6       1  0.681913  0.253701  0.216216  0.160162\n",
      "7       1  0.832640  0.376851  0.185031  0.145357\n",
      "8       1  0.666320  0.406460  0.176715  0.153432\n",
      "9       1  0.444906  0.430013  0.174636  0.179004\n",
      "10      1  0.226611  0.441454  0.199584  0.150740\n",
      "11      1  0.228690  0.594213  0.195426  0.173620\n",
      "12      1  0.403326  0.754374  0.153846  0.224764\n",
      "13      1  0.575884  0.711978  0.207900  0.220727\n",
      "14      1  0.705821  0.578062  0.164241  0.181696\n",
      "15      1  0.877339  0.649394  0.187110  0.195155\n",
      "16      1  0.696466  0.767160  0.174636  0.172275\n",
      "17      1  0.826403  0.809556  0.143451  0.200538\n",
      "18      1  0.391892  0.605653  0.168399  0.164199\n",
      "19      1  0.571726  0.465680  0.091476  0.164199\n",
      "20      1  0.373181  0.357335  0.076923  0.154778\n",
      "21      1  0.371102  0.207268  0.164241  0.104980\n",
      "   class         x         y         w         h\n",
      "0      1  0.625673  0.569314  0.271095  0.436070\n",
      "1      1  0.169659  0.359354  0.332136  0.336474\n",
      "2      1  0.588869  0.292059  0.197487  0.199192\n"
     ]
    },
    {
     "name": "stderr",
     "output_type": "stream",
     "text": [
      "\n"
     ]
    }
   ],
   "source": [
    "test_dataset.for_yolov5_eval = True\n",
    "\n",
    "detection_eval_img_dir = os.path.join('dataset', 'yolov5_test', 'images')\n",
    "detection_eval_label_dir = os.path.join('dataset', 'yolov5_test', 'labels')\n",
    "\n",
    "os.makedirs(detection_eval_img_dir, exist_ok=True)\n",
    "os.makedirs(detection_eval_label_dir, exist_ok=True)\n",
    "\n",
    "save_dataset(test_dataset, detection_eval_img_dir, detection_eval_label_dir)"
   ],
   "metadata": {
    "collapsed": false,
    "pycharm": {
     "name": "#%%\n"
    }
   }
  },
  {
   "cell_type": "code",
   "execution_count": 5,
   "outputs": [
    {
     "name": "stderr",
     "output_type": "stream",
     "text": [
      "\u001B[34m\u001B[1mval: \u001B[0mdata=apple_papaya_mango.yaml, weights=['weights\\\\detection\\\\best.pt'], batch_size=32, imgsz=416, conf_thres=0.001, iou_thres=0.6, max_det=300, task=test, device=, workers=8, single_cls=False, augment=False, verbose=False, save_txt=False, save_hybrid=False, save_conf=False, save_json=False, project=yolov5\\runs\\val, name=exp, exist_ok=False, half=False, dnn=False\n",
      "fatal: cannot change to 'C:\\Users\\jorda\\Documents\\School\\CMPE': No such file or directory\n",
      "YOLOv5  2022-10-19 Python-3.10.5 torch-1.12.0 CUDA:0 (NVIDIA GeForce GTX 1070, 8192MiB)\n",
      "\n",
      "Fusing layers... \n",
      "Model summary: 157 layers, 7018216 parameters, 0 gradients, 15.8 GFLOPs\n",
      "\n",
      "\u001B[34m\u001B[1mtest: \u001B[0mScanning 'C:\\Users\\jorda\\Documents\\School\\CMPE 295\\fruit-detection\\dataset\\yolov5_test\\labels.cache' images and labels... 29 found, 0 missing, 0 empty, 0 corrupt: 100%|##########| 29/29 [00:00<?, ?it/s]\n",
      "\u001B[34m\u001B[1mtest: \u001B[0mScanning 'C:\\Users\\jorda\\Documents\\School\\CMPE 295\\fruit-detection\\dataset\\yolov5_test\\labels.cache' images and labels... 29 found, 0 missing, 0 empty, 0 corrupt: 100%|##########| 29/29 [00:00<?, ?it/s]\n",
      "\n",
      "                 Class     Images  Instances          P          R      mAP50   mAP50-95:   0%|          | 0/1 [00:00<?, ?it/s]\n",
      "                 Class     Images  Instances          P          R      mAP50   mAP50-95: 100%|##########| 1/1 [00:01<00:00,  1.20s/it]\n",
      "                 Class     Images  Instances          P          R      mAP50   mAP50-95: 100%|##########| 1/1 [00:01<00:00,  1.20s/it]\n",
      "                   all         29        144      0.171      0.839      0.298      0.217\n",
      "                 apple         29         96      0.241      0.719      0.218      0.172\n",
      "                papaya         29         48        0.1      0.958      0.377      0.263\n",
      "Speed: 1.2ms pre-process, 9.5ms inference, 3.0ms NMS per image at shape (32, 3, 416, 416)\n",
      "Results saved to \u001B[1myolov5\\runs\\val\\exp10\u001B[0m\n"
     ]
    }
   ],
   "source": [
    "!python yolov5/val.py --data apple_papaya_mango.yaml --weights {detection_weights} --img 416 --task test"
   ],
   "metadata": {
    "collapsed": false,
    "pycharm": {
     "name": "#%%\n"
    }
   }
  },
  {
   "cell_type": "code",
   "execution_count": null,
   "outputs": [],
   "source": [
    "# set this to be false now that we are done evaluating the detection model\n",
    "test_dataset.for_yolov5_eval = False"
   ],
   "metadata": {
    "collapsed": false,
    "pycharm": {
     "name": "#%%\n"
    }
   }
  },
  {
   "cell_type": "markdown",
   "source": [
    "## Ensemble Classification Accuracy\n",
    "\n",
    "Now we want to evaluate the accuracy of the ensemble classification model."
   ],
   "metadata": {
    "collapsed": false,
    "pycharm": {
     "name": "#%% md\n"
    }
   }
  },
  {
   "cell_type": "code",
   "execution_count": null,
   "outputs": [],
   "source": [],
   "metadata": {
    "collapsed": false,
    "pycharm": {
     "name": "#%%\n"
    }
   }
  },
  {
   "cell_type": "code",
   "execution_count": null,
   "metadata": {
    "pycharm": {
     "name": "#%%\n"
    }
   },
   "outputs": [],
   "source": []
  }
 ],
 "metadata": {
  "kernelspec": {
   "display_name": "Python 3 (ipykernel)",
   "language": "python",
   "name": "python3"
  },
  "language_info": {
   "codemirror_mode": {
    "name": "ipython",
    "version": 3
   },
   "file_extension": ".py",
   "mimetype": "text/x-python",
   "name": "python",
   "nbconvert_exporter": "python",
   "pygments_lexer": "ipython3",
   "version": "3.10.5"
  }
 },
 "nbformat": 4,
 "nbformat_minor": 1
}